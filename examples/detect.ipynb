{
 "metadata": {
  "name": "detect"
 },
 "nbformat": 3,
 "nbformat_minor": 0,
 "worksheets": [
  {
   "cells": [
    {
     "cell_type": "code",
     "collapsed": false,
     "input": [
      "import sys\n",
      "sys.path.append(\"..\")\n",
      "\n",
      "from peak_detection import detect_peaks\n",
      "from tifffile import TiffFile\n",
      "\n",
      "fname = 'sample.tif'\n",
      "\n",
      "detection_parameters = {'w_s': 10,\n",
      "                        'peak_radius': 4.,\n",
      "                        'threshold': 60.,\n",
      "                        'max_peaks': 10\n",
      "                        }\n",
      "\n",
      "sample = TiffFile(fname)\n",
      "peaks = detect_peaks(sample.asarray(), shape_label=('t', 'z', 'x', 'y'), parallel=True, **detection_parameters)"
     ],
     "language": "python",
     "metadata": {},
     "outputs": [
      {
       "output_type": "stream",
       "stream": "stderr",
       "text": [
        "2013-06-28 19:52:38:INFO:peak_detection.detection: Parallel mode enabled: 5 cores will be used to process 9 stacks\n"
       ]
      },
      {
       "output_type": "stream",
       "stream": "stderr",
       "text": [
        "2013-06-28 19:52:40:INFO:peak_detection.detection: Detection done for stack number 3: 4 peaks detected (1/9 - 11%)\n"
       ]
      },
      {
       "output_type": "stream",
       "stream": "stderr",
       "text": [
        "2013-06-28 19:52:40:INFO:peak_detection.detection: Detection done for stack number 2: 3 peaks detected (2/9 - 22%)\n"
       ]
      },
      {
       "output_type": "stream",
       "stream": "stderr",
       "text": [
        "2013-06-28 19:52:40:INFO:peak_detection.detection: Detection done for stack number 4: 5 peaks detected (3/9 - 33%)\n"
       ]
      },
      {
       "output_type": "stream",
       "stream": "stderr",
       "text": [
        "2013-06-28 19:52:40:INFO:peak_detection.detection: Detection done for stack number 1: 2 peaks detected (4/9 - 44%)\n"
       ]
      },
      {
       "output_type": "stream",
       "stream": "stderr",
       "text": [
        "2013-06-28 19:52:41:INFO:peak_detection.detection: Detection done for stack number 0: 1 peaks detected (5/9 - 55%)\n"
       ]
      },
      {
       "output_type": "stream",
       "stream": "stderr",
       "text": [
        "2013-06-28 19:52:41:INFO:peak_detection.detection: Detection done for stack number 5: 6 peaks detected (6/9 - 66%)\n"
       ]
      },
      {
       "output_type": "stream",
       "stream": "stderr",
       "text": [
        "2013-06-28 19:52:42:INFO:peak_detection.detection: Detection done for stack number 6: 7 peaks detected (7/9 - 77%)\n"
       ]
      },
      {
       "output_type": "stream",
       "stream": "stderr",
       "text": [
        "2013-06-28 19:52:42:INFO:peak_detection.detection: Detection done for stack number 7: 8 peaks detected (8/9 - 88%)\n"
       ]
      },
      {
       "output_type": "stream",
       "stream": "stderr",
       "text": [
        "2013-06-28 19:52:42:INFO:peak_detection.detection: Detection done for stack number 8: 9 peaks detected (9/9 - 100%)\n"
       ]
      },
      {
       "output_type": "stream",
       "stream": "stderr",
       "text": [
        "2013-06-28 19:52:42:INFO:peak_detection.detection: Reordering stacks\n"
       ]
      },
      {
       "output_type": "stream",
       "stream": "stderr",
       "text": [
        "2013-06-28 19:52:42:INFO:peak_detection.detection: Add original shape to DataFrame as columns. Shape = (3, 3, 54, 209)\n"
       ]
      },
      {
       "output_type": "stream",
       "stream": "stderr",
       "text": [
        "2013-06-28 19:52:42:INFO:peak_detection.detection: Detection is done\n"
       ]
      },
      {
       "output_type": "stream",
       "stream": "stderr",
       "text": [
        "2013-06-28 19:52:42:INFO:peak_detection.detection: 45 peaks detected in 9 stacks\n"
       ]
      }
     ],
     "prompt_number": 2
    },
    {
     "cell_type": "code",
     "collapsed": false,
     "input": [
      "print peaks"
     ],
     "language": "python",
     "metadata": {},
     "outputs": [
      {
       "output_type": "stream",
       "stream": "stdout",
       "text": [
        "                   x           y       w           I  t  z\n",
        "stacks id                                                 \n",
        "0      0   19.022877   28.102197  2.9038  195.396065  0  0\n",
        "1      0   19.022877   28.102197  2.9038  195.396065  0  1\n",
        "       1   25.022877  189.102197  2.9038  195.396065  0  1\n",
        "2      0   14.022877  133.102197  2.9038  195.396065  0  2\n",
        "       1   29.022877   44.102197  2.9038  195.396065  0  2\n",
        "       2   29.022877   97.102197  2.9038  195.396065  0  2\n",
        "3      0   19.022877   28.102197  2.9038  195.396065  1  0\n",
        "       1   24.022877  132.102197  2.9038  195.396065  1  0\n",
        "       2   24.022877  178.102197  2.9038  195.396065  1  0\n",
        "       3   29.022877   79.102197  2.9038  195.396065  1  0\n",
        "4      0   19.022877   27.102197  2.9038  195.396065  1  1\n",
        "       1   26.022877  181.102197  2.9038  195.396065  1  1\n",
        "       2   28.022877   80.102197  2.9038  195.396065  1  1\n",
        "       3   28.022877  128.102197  2.9038  195.396065  1  1\n",
        "       4   45.022877   43.102197  2.9038  195.396065  1  1\n",
        "5      0   15.022877  147.102197  2.9038  195.396065  1  2\n",
        "       1   17.022877   55.102197  2.9038  195.396065  1  2\n",
        "       2   18.022877   88.102197  2.9038  195.396065  1  2\n",
        "       3   27.022877   22.102197  2.9038  195.396065  1  2\n",
        "       4   35.022877  122.102197  2.9038  195.396065  1  2\n",
        "       5   38.022877   66.102197  2.9038  195.396065  1  2\n",
        "6      0   14.022877  131.102197  2.9038  195.396065  2  0\n",
        "       1   15.022877   75.102197  2.9038  195.396065  2  0\n",
        "       2   32.022877   39.102197  2.9038  195.396065  2  0\n",
        "       3   34.022877   99.102197  2.9038  195.396065  2  0\n",
        "       4   36.022877   67.102197  2.9038  195.396065  2  0\n",
        "       5   36.022877  157.102197  2.9038  195.396065  2  0\n",
        "       6   37.022877  125.102197  2.9038  195.396065  2  0\n",
        "7      0   14.022877  131.102197  2.9038  195.396065  2  1\n",
        "       1   15.022877   75.102197  2.9038  195.396065  2  1\n",
        "       2   16.022877  176.102197  2.9038  195.396065  2  1\n",
        "       3   32.022877   39.102197  2.9038  195.396065  2  1\n",
        "       4   34.022877   99.102197  2.9038  195.396065  2  1\n",
        "       5   36.022877   67.102197  2.9038  195.396065  2  1\n",
        "       6   36.022877  157.102197  2.9038  195.396065  2  1\n",
        "       7   37.022877  125.102197  2.9038  195.396065  2  1\n",
        "8      0   14.022877    8.102197  2.9038  195.396065  2  2\n",
        "       1   14.022877  131.102197  2.9038  195.396065  2  2\n",
        "       2   15.022877   75.102197  2.9038  195.396065  2  2\n",
        "       3   16.022877  176.102197  2.9038  195.396065  2  2\n",
        "       4   32.022877   39.102197  2.9038  195.396065  2  2\n",
        "       5   34.022877   99.102197  2.9038  195.396065  2  2\n",
        "       6   36.022877   67.102197  2.9038  195.396065  2  2\n",
        "       7   36.022877  157.102197  2.9038  195.396065  2  2\n",
        "       8   37.022877  125.102197  2.9038  195.396065  2  2\n"
       ]
      }
     ],
     "prompt_number": 3
    }
   ],
   "metadata": {}
  }
 ]
}